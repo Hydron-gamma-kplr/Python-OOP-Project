{
 "cells": [
  {
   "attachments": {},
   "cell_type": "markdown",
   "id": "018f51b4",
   "metadata": {},
   "source": [
    "# Test Exercises"
   ]
  },
  {
   "attachments": {},
   "cell_type": "markdown",
   "id": "d77460b0",
   "metadata": {},
   "source": [
    "### Exercise 1\n",
    "\n",
    "Create a `class` for a book called `Book`.\n",
    "\n",
    "The attributes should be.\n",
    "- `title`\n",
    "- `author`\n",
    "- `pages`\n",
    "\n",
    "Try it out."
   ]
  },
  {
   "cell_type": "code",
   "execution_count": 1,
   "id": "f33f470f",
   "metadata": {},
   "outputs": [],
   "source": [
    "class Book:\n",
    "    def __Init__(self, title, author, pages):\n",
    "        self.title=title\n",
    "        self.author=author\n",
    "        self.pages=pages\n",
    "\n",
    "    def set_title(self, title):\n",
    "        self.title=title\n",
    "\n",
    "    def get_title(self):\n",
    "        return self.title\n",
    "    \n",
    "    def __str__(self):\n",
    "        return self.title +' '+ self.author +' '+ str(self.pages)\n",
    "    \n",
    "    def __It__(self, other):\n",
    "        if self.pages == other.pages:\n",
    "            return self.title < other.title, self.author < other.author\n",
    "        return self.pages < other.pages\n",
    "    \n"
   ]
  },
  {
   "cell_type": "code",
   "execution_count": null,
   "id": "3ef86d2e",
   "metadata": {},
   "outputs": [],
   "source": []
  },
  {
   "attachments": {},
   "cell_type": "markdown",
   "id": "9813e500",
   "metadata": {},
   "source": [
    "### Exercise 2\n",
    "\n",
    "Continue with the `Book` class.\n",
    "\n",
    "- Add get and set methods for the title.\n",
    "- Add a `__str__` method for a string representation of the class.\n",
    "\n",
    "Try it out."
   ]
  },
  {
   "cell_type": "code",
   "execution_count": 2,
   "id": "18f7a816",
   "metadata": {},
   "outputs": [
    {
     "ename": "TypeError",
     "evalue": "Book() takes no arguments",
     "output_type": "error",
     "traceback": [
      "\u001b[0;31m---------------------------------------------------------------------------\u001b[0m",
      "\u001b[0;31mTypeError\u001b[0m                                 Traceback (most recent call last)",
      "Cell \u001b[0;32mIn[2], line 1\u001b[0m\n\u001b[0;32m----> 1\u001b[0m book1\u001b[39m=\u001b[39mBook(\u001b[39m'\u001b[39;49m\u001b[39mtitre\u001b[39;49m\u001b[39m'\u001b[39;49m,\u001b[39m'\u001b[39;49m\u001b[39mauteur\u001b[39;49m\u001b[39m'\u001b[39;49m,\u001b[39m12\u001b[39;49m)\n\u001b[1;32m      2\u001b[0m \u001b[39mprint\u001b[39m(book1)\n",
      "\u001b[0;31mTypeError\u001b[0m: Book() takes no arguments"
     ]
    }
   ],
   "source": [
    "book1=Book('titre','auteur',12)\n",
    "print(book1)"
   ]
  },
  {
   "cell_type": "code",
   "execution_count": null,
   "id": "02e2bc00",
   "metadata": {},
   "outputs": [],
   "source": []
  },
  {
   "cell_type": "code",
   "execution_count": null,
   "id": "dd0c77e7",
   "metadata": {},
   "outputs": [],
   "source": []
  },
  {
   "attachments": {},
   "cell_type": "markdown",
   "id": "57e274d1",
   "metadata": {},
   "source": [
    "### Exercise 3 (Challenging)\n",
    "\n",
    "Continue with the `Book` class\n",
    "\n",
    "- Add a `__lt__` method that compares to objects.\n",
    "\n",
    "Create a list of books, sort it, and see it works."
   ]
  },
  {
   "cell_type": "code",
   "execution_count": 8,
   "id": "08ceca17",
   "metadata": {},
   "outputs": [
    {
     "ename": "TypeError",
     "evalue": "Book() takes no arguments",
     "output_type": "error",
     "traceback": [
      "\u001b[0;31m---------------------------------------------------------------------------\u001b[0m",
      "\u001b[0;31mTypeError\u001b[0m                                 Traceback (most recent call last)",
      "Cell \u001b[0;32mIn[8], line 1\u001b[0m\n\u001b[0;32m----> 1\u001b[0m book2\u001b[39m=\u001b[39mBook(\u001b[39m'\u001b[39;49m\u001b[39mtitre2\u001b[39;49m\u001b[39m'\u001b[39;49m,\u001b[39m'\u001b[39;49m\u001b[39mauteur2\u001b[39;49m\u001b[39m'\u001b[39;49m,\u001b[39m15\u001b[39;49m)\n\u001b[1;32m      2\u001b[0m \u001b[39mprint\u001b[39m(book2)\n",
      "\u001b[0;31mTypeError\u001b[0m: Book() takes no arguments"
     ]
    }
   ],
   "source": [
    "book2=Book('titre2','auteur2',15)\n",
    "print(book2)"
   ]
  },
  {
   "cell_type": "code",
   "execution_count": 5,
   "id": "c9f80062",
   "metadata": {},
   "outputs": [
    {
     "ename": "NameError",
     "evalue": "name 'book1' is not defined",
     "output_type": "error",
     "traceback": [
      "\u001b[0;31m---------------------------------------------------------------------------\u001b[0m",
      "\u001b[0;31mNameError\u001b[0m                                 Traceback (most recent call last)",
      "Cell \u001b[0;32mIn[5], line 1\u001b[0m\n\u001b[0;32m----> 1\u001b[0m book1 \u001b[39m<\u001b[39m book2\n",
      "\u001b[0;31mNameError\u001b[0m: name 'book1' is not defined"
     ]
    }
   ],
   "source": [
    "book1 < book2"
   ]
  },
  {
   "cell_type": "code",
   "execution_count": null,
   "id": "44f29f12",
   "metadata": {},
   "outputs": [],
   "source": []
  }
 ],
 "metadata": {
  "kernelspec": {
   "display_name": "Python 3 (ipykernel)",
   "language": "python",
   "name": "python3"
  },
  "language_info": {
   "codemirror_mode": {
    "name": "ipython",
    "version": 3
   },
   "file_extension": ".py",
   "mimetype": "text/x-python",
   "name": "python",
   "nbconvert_exporter": "python",
   "pygments_lexer": "ipython3",
   "version": "3.10.4"
  }
 },
 "nbformat": 4,
 "nbformat_minor": 5
}
